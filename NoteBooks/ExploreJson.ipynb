{
    "metadata": {
        "kernelspec": {
            "name": "python3",
            "display_name": "Python 3 (ipykernel)",
            "language": "python"
        },
        "language_info": {
            "name": "python",
            "version": "3.9.12",
            "mimetype": "text/x-python",
            "codemirror_mode": {
                "name": "ipython",
                "version": 3
            },
            "pygments_lexer": "ipython3",
            "nbconvert_exporter": "python",
            "file_extension": ".py"
        }
    },
    "nbformat_minor": 2,
    "nbformat": 4,
    "cells": [
        {
            "cell_type": "markdown",
            "source": [
                "# Explore Json\n",
                "\n",
                "Use this notebook to explore  candle data from Oanda."
            ],
            "metadata": {
                "azdata_cell_guid": "ca9b9345-081b-4c00-9879-e7416bc34f70"
            },
            "attachments": {}
        },
        {
            "cell_type": "code",
            "source": [
                "# Imports\r\n",
                "import json\r\n",
                "import pandas as pd\r\n",
                ""
            ],
            "metadata": {
                "azdata_cell_guid": "f8522ffe-397f-42b3-af1e-2a442ea5d740",
                "language": "python",
                "tags": [
                    "hide_input"
                ]
            },
            "outputs": [],
            "execution_count": 94
        },
        {
            "cell_type": "code",
            "source": [
                "with open('../dump/XAU_USD-H1-candles.json') as f:\r\n",
                "    raw_json_data = f.read()\r\n",
                "\r\n",
                "json_data = json.loads(raw_json_data)\r\n",
                "\r\n",
                "instrument = json_data['instrument']\r\n",
                "granularity = json_data['granularity']\r\n",
                "candles = json_data['candles']\r\n",
                "\r\n",
                "print(f\"{instrument} ({granularity}) candles\")\r\n",
                "print(f\"Sample candle data: {candles[0]}\")"
            ],
            "metadata": {
                "azdata_cell_guid": "7566cdec-efe2-44d8-b8e4-59af2600d0be",
                "language": "python",
                "tags": []
            },
            "outputs": [
                {
                    "name": "stdout",
                    "text": "XAU_USD (H1) candles\nSample candle data: {'complete': True, 'volume': 5626, 'time': '2022-04-21T20:00:00.000000000Z', 'mid': {'o': '1951.130', 'h': '1952.415', 'l': '1950.958', 'c': '1951.625'}}\n",
                    "output_type": "stream"
                }
            ],
            "execution_count": 95
        },
        {
            "cell_type": "code",
            "source": [
                "#candles\r\n",
                "# candles\r\n",
                "#c = candles[0]\r\n",
                "\r\n",
                "\r\n",
                "# # 2022-04-21T20:00:00.000000000Z\r\n",
                "# #\r\n",
                "# from datetime import datetime\r\n",
                "# a = datetime.strptime(c['time'], \"%Y-%m-%dT%H:%M:%S.%f000Z\")\r\n",
                "# a"
            ],
            "metadata": {
                "azdata_cell_guid": "eff1181a-58b3-4359-8f77-424e88d9727c",
                "language": "python"
            },
            "outputs": [],
            "execution_count": 96
        },
        {
            "cell_type": "code",
            "source": [
                "# Convert json data to dataframe\r\n",
                "flatten_data = [\r\n",
                "    [ \r\n",
                "        datetime.strptime(x['time'], \"%Y-%m-%dT%H:%M:%S.%f000Z\"), \r\n",
                "        bool(x['complete']), \r\n",
                "        int(x['volume']), \r\n",
                "        float(x['mid']['o']), \r\n",
                "        float(x['mid']['h']), \r\n",
                "        float(x['mid']['l']), \r\n",
                "        float(x['mid']['c'])\r\n",
                "    ] for x in candles]\r\n",
                "df = pd.DataFrame(\r\n",
                "    flatten_data, \r\n",
                "    columns=['time','complete', 'volume', 'o', 'h', 'l', 'c'])\r\n",
                "\r\n",
                "print(f\"df shape: {df.shape}\")\r\n",
                "\r\n",
                "print(df.info())\r\n",
                ""
            ],
            "metadata": {
                "azdata_cell_guid": "75d9d3b3-6bcf-4177-9ce6-e028433f2596",
                "language": "python",
                "tags": []
            },
            "outputs": [
                {
                    "name": "stdout",
                    "text": "df shape: (500, 7)\n<class 'pandas.core.frame.DataFrame'>\nRangeIndex: 500 entries, 0 to 499\nData columns (total 7 columns):\n #   Column    Non-Null Count  Dtype         \n---  ------    --------------  -----         \n 0   time      500 non-null    datetime64[ns]\n 1   complete  500 non-null    bool          \n 2   volume    500 non-null    int64         \n 3   o         500 non-null    float64       \n 4   h         500 non-null    float64       \n 5   l         500 non-null    float64       \n 6   c         500 non-null    float64       \ndtypes: bool(1), datetime64[ns](1), float64(4), int64(1)\nmemory usage: 24.1 KB\nNone\n",
                    "output_type": "stream"
                }
            ],
            "execution_count": 97
        },
        {
            "cell_type": "code",
            "source": [
                "#df['ma'] = df.rolling(5,on='pop').mean()\r\n",
                "#print(df.to_string())\r\n",
                "df['ma'] = df['c'].rolling(8).mean()\r\n",
                "df['ewm'] = df['c'].ewm(span=4, adjust=False).mean()\r\n",
                "df.head(50)"
            ],
            "metadata": {
                "azdata_cell_guid": "94ec0101-ee90-4188-9e2c-aac5c9051577",
                "language": "python"
            },
            "outputs": [
                {
                    "data": {
                        "text/plain": "                  time  complete  volume         o         h         l  \\\n0  2022-04-21 20:00:00      True    5626  1951.130  1952.415  1950.958   \n1  2022-04-21 22:00:00      True    3981  1950.820  1951.479  1950.391   \n2  2022-04-21 23:00:00      True    5937  1951.435  1952.951  1950.675   \n3  2022-04-22 00:00:00      True   13496  1950.980  1952.225  1948.575   \n4  2022-04-22 01:00:00      True   21307  1950.265  1953.716  1948.871   \n5  2022-04-22 02:00:00      True   14473  1950.575  1951.403  1947.295   \n6  2022-04-22 03:00:00      True   15665  1947.465  1951.291  1945.970   \n7  2022-04-22 04:00:00      True   15530  1950.445  1952.919  1949.740   \n8  2022-04-22 05:00:00      True   17757  1952.360  1953.229  1950.307   \n9  2022-04-22 06:00:00      True   19514  1953.220  1955.710  1951.015   \n10 2022-04-22 07:00:00      True   30535  1952.925  1955.201  1950.981   \n11 2022-04-22 08:00:00      True   36245  1951.005  1951.587  1943.536   \n12 2022-04-22 09:00:00      True   15038  1943.870  1944.099  1941.435   \n13 2022-04-22 10:00:00      True   37451  1943.860  1944.295  1930.923   \n14 2022-04-22 11:00:00      True   18476  1936.615  1937.604  1932.908   \n15 2022-04-22 12:00:00      True   52385  1935.505  1939.669  1929.551   \n16 2022-04-22 13:00:00      True   75403  1937.080  1946.495  1931.310   \n17 2022-04-22 14:00:00      True   57133  1943.305  1945.437  1933.569   \n18 2022-04-22 15:00:00      True   50341  1936.025  1939.533  1926.635   \n19 2022-04-22 16:00:00      True   20279  1939.175  1940.926  1934.953   \n20 2022-04-22 17:00:00      True   15360  1936.580  1936.865  1932.223   \n21 2022-04-22 18:00:00      True   16895  1933.325  1935.080  1931.863   \n22 2022-04-22 19:00:00      True   22545  1933.065  1936.169  1931.799   \n23 2022-04-22 20:00:00      True    9651  1932.735  1934.777  1930.958   \n24 2022-04-24 22:00:00      True    9778  1933.390  1934.549  1929.611   \n25 2022-04-24 23:00:00      True    6533  1930.445  1933.049  1929.840   \n26 2022-04-25 00:00:00      True   16635  1932.740  1932.840  1926.385   \n27 2022-04-25 01:00:00      True   26583  1927.930  1928.071  1924.980   \n28 2022-04-25 02:00:00      True   27132  1925.531  1926.556  1922.065   \n29 2022-04-25 03:00:00      True   18282  1924.215  1924.679  1921.841   \n30 2022-04-25 04:00:00      True   22341  1924.170  1924.529  1915.920   \n31 2022-04-25 05:00:00      True   25740  1916.500  1919.415  1913.298   \n32 2022-04-25 06:00:00      True   30377  1915.425  1918.866  1912.371   \n33 2022-04-25 07:00:00      True   23924  1917.910  1921.120  1914.795   \n34 2022-04-25 08:00:00      True   24028  1915.599  1921.247  1914.360   \n35 2022-04-25 09:00:00      True   15613  1916.620  1919.265  1915.693   \n36 2022-04-25 10:00:00      True   21081  1917.360  1918.240  1907.737   \n37 2022-04-25 11:00:00      True   38641  1908.925  1911.075  1905.225   \n38 2022-04-25 12:00:00      True   63020  1907.685  1909.745  1891.550   \n39 2022-04-25 13:00:00      True   79297  1894.801  1904.267  1893.628   \n40 2022-04-25 14:00:00      True   82198  1896.805  1899.449  1891.941   \n41 2022-04-25 15:00:00      True   42415  1895.200  1900.535  1892.767   \n42 2022-04-25 16:00:00      True   24717  1895.905  1897.973  1894.550   \n43 2022-04-25 17:00:00      True   24249  1897.765  1898.731  1894.693   \n44 2022-04-25 18:00:00      True   23998  1897.295  1902.605  1896.519   \n45 2022-04-25 19:00:00      True   19261  1898.745  1901.874  1897.640   \n46 2022-04-25 20:00:00      True    8699  1897.975  1899.216  1897.231   \n47 2022-04-25 22:00:00      True    7170  1898.875  1900.715  1898.603   \n48 2022-04-25 23:00:00      True    3420  1899.550  1900.445  1898.605   \n49 2022-04-26 00:00:00      True   14639  1899.500  1903.847  1899.243   \n\n           c           ma          ewm  \n0   1951.625          NaN  1951.625000  \n1   1951.435          NaN  1951.549000  \n2   1951.010          NaN  1951.333400  \n3   1950.290          NaN  1950.916040  \n4   1950.561          NaN  1950.774024  \n5   1947.465          NaN  1949.450414  \n6   1950.460          NaN  1949.854249  \n7   1952.340  1950.648250  1950.848549  \n8   1953.210  1950.846375  1951.793130  \n9   1952.925  1951.032625  1952.245878  \n10  1951.010  1951.032625  1951.751527  \n11  1943.890  1950.232625  1948.606916  \n12  1943.850  1949.393750  1946.704150  \n13  1936.605  1948.036250  1942.664490  \n14  1935.491  1946.165125  1939.795094  \n15  1937.065  1944.255750  1938.703056  \n16  1943.325  1943.020125  1940.551834  \n17  1936.040  1940.909500  1938.747100  \n18  1939.165  1939.428875  1938.914260  \n19  1936.535  1938.509500  1937.962556  \n20  1933.325  1937.193875  1936.107534  \n21  1933.051  1936.749625  1934.884920  \n22  1932.751  1936.407125  1934.031352  \n23  1932.350  1935.817750  1933.358811  \n24  1930.375  1934.199000  1932.165287  \n25  1932.740  1933.786500  1932.395172  \n26  1927.950  1932.384625  1930.617103  \n27  1925.555  1931.012125  1928.592262  \n28  1924.235  1929.875875  1926.849357  \n29  1924.190  1928.768250  1925.785614  \n30  1916.510  1926.738125  1922.075369  \n31  1915.405  1924.620000  1919.407221  \n32  1917.900  1923.060625  1918.804333  \n33  1915.605  1920.918750  1917.524600  \n34  1916.575  1919.496875  1917.144760  \n35  1917.310  1918.466250  1917.210856  \n36  1908.915  1916.551250  1913.892514  \n37  1907.670  1914.486250  1911.403508  \n38  1894.790  1911.771250  1904.758105  \n39  1896.835  1909.450000  1901.588863  \n40  1895.185  1906.610625  1899.027318  \n41  1895.890  1904.146250  1897.772391  \n42  1897.755  1901.793750  1897.765434  \n43  1897.275  1899.289375  1897.569261  \n44  1898.705  1898.013125  1898.023556  \n45  1897.975  1896.801250  1898.004134  \n46  1898.045  1897.208125  1898.020480  \n47  1899.551  1897.547625  1898.632688  \n48  1899.440  1898.079500  1898.955613  \n49  1900.965  1898.713875  1899.759368  ",
                        "text/html": "<div>\n<style scoped>\n    .dataframe tbody tr th:only-of-type {\n        vertical-align: middle;\n    }\n\n    .dataframe tbody tr th {\n        vertical-align: top;\n    }\n\n    .dataframe thead th {\n        text-align: right;\n    }\n</style>\n<table border=\"1\" class=\"dataframe\">\n  <thead>\n    <tr style=\"text-align: right;\">\n      <th></th>\n      <th>time</th>\n      <th>complete</th>\n      <th>volume</th>\n      <th>o</th>\n      <th>h</th>\n      <th>l</th>\n      <th>c</th>\n      <th>ma</th>\n      <th>ewm</th>\n    </tr>\n  </thead>\n  <tbody>\n    <tr>\n      <th>0</th>\n      <td>2022-04-21 20:00:00</td>\n      <td>True</td>\n      <td>5626</td>\n      <td>1951.130</td>\n      <td>1952.415</td>\n      <td>1950.958</td>\n      <td>1951.625</td>\n      <td>NaN</td>\n      <td>1951.625000</td>\n    </tr>\n    <tr>\n      <th>1</th>\n      <td>2022-04-21 22:00:00</td>\n      <td>True</td>\n      <td>3981</td>\n      <td>1950.820</td>\n      <td>1951.479</td>\n      <td>1950.391</td>\n      <td>1951.435</td>\n      <td>NaN</td>\n      <td>1951.549000</td>\n    </tr>\n    <tr>\n      <th>2</th>\n      <td>2022-04-21 23:00:00</td>\n      <td>True</td>\n      <td>5937</td>\n      <td>1951.435</td>\n      <td>1952.951</td>\n      <td>1950.675</td>\n      <td>1951.010</td>\n      <td>NaN</td>\n      <td>1951.333400</td>\n    </tr>\n    <tr>\n      <th>3</th>\n      <td>2022-04-22 00:00:00</td>\n      <td>True</td>\n      <td>13496</td>\n      <td>1950.980</td>\n      <td>1952.225</td>\n      <td>1948.575</td>\n      <td>1950.290</td>\n      <td>NaN</td>\n      <td>1950.916040</td>\n    </tr>\n    <tr>\n      <th>4</th>\n      <td>2022-04-22 01:00:00</td>\n      <td>True</td>\n      <td>21307</td>\n      <td>1950.265</td>\n      <td>1953.716</td>\n      <td>1948.871</td>\n      <td>1950.561</td>\n      <td>NaN</td>\n      <td>1950.774024</td>\n    </tr>\n    <tr>\n      <th>5</th>\n      <td>2022-04-22 02:00:00</td>\n      <td>True</td>\n      <td>14473</td>\n      <td>1950.575</td>\n      <td>1951.403</td>\n      <td>1947.295</td>\n      <td>1947.465</td>\n      <td>NaN</td>\n      <td>1949.450414</td>\n    </tr>\n    <tr>\n      <th>6</th>\n      <td>2022-04-22 03:00:00</td>\n      <td>True</td>\n      <td>15665</td>\n      <td>1947.465</td>\n      <td>1951.291</td>\n      <td>1945.970</td>\n      <td>1950.460</td>\n      <td>NaN</td>\n      <td>1949.854249</td>\n    </tr>\n    <tr>\n      <th>7</th>\n      <td>2022-04-22 04:00:00</td>\n      <td>True</td>\n      <td>15530</td>\n      <td>1950.445</td>\n      <td>1952.919</td>\n      <td>1949.740</td>\n      <td>1952.340</td>\n      <td>1950.648250</td>\n      <td>1950.848549</td>\n    </tr>\n    <tr>\n      <th>8</th>\n      <td>2022-04-22 05:00:00</td>\n      <td>True</td>\n      <td>17757</td>\n      <td>1952.360</td>\n      <td>1953.229</td>\n      <td>1950.307</td>\n      <td>1953.210</td>\n      <td>1950.846375</td>\n      <td>1951.793130</td>\n    </tr>\n    <tr>\n      <th>9</th>\n      <td>2022-04-22 06:00:00</td>\n      <td>True</td>\n      <td>19514</td>\n      <td>1953.220</td>\n      <td>1955.710</td>\n      <td>1951.015</td>\n      <td>1952.925</td>\n      <td>1951.032625</td>\n      <td>1952.245878</td>\n    </tr>\n    <tr>\n      <th>10</th>\n      <td>2022-04-22 07:00:00</td>\n      <td>True</td>\n      <td>30535</td>\n      <td>1952.925</td>\n      <td>1955.201</td>\n      <td>1950.981</td>\n      <td>1951.010</td>\n      <td>1951.032625</td>\n      <td>1951.751527</td>\n    </tr>\n    <tr>\n      <th>11</th>\n      <td>2022-04-22 08:00:00</td>\n      <td>True</td>\n      <td>36245</td>\n      <td>1951.005</td>\n      <td>1951.587</td>\n      <td>1943.536</td>\n      <td>1943.890</td>\n      <td>1950.232625</td>\n      <td>1948.606916</td>\n    </tr>\n    <tr>\n      <th>12</th>\n      <td>2022-04-22 09:00:00</td>\n      <td>True</td>\n      <td>15038</td>\n      <td>1943.870</td>\n      <td>1944.099</td>\n      <td>1941.435</td>\n      <td>1943.850</td>\n      <td>1949.393750</td>\n      <td>1946.704150</td>\n    </tr>\n    <tr>\n      <th>13</th>\n      <td>2022-04-22 10:00:00</td>\n      <td>True</td>\n      <td>37451</td>\n      <td>1943.860</td>\n      <td>1944.295</td>\n      <td>1930.923</td>\n      <td>1936.605</td>\n      <td>1948.036250</td>\n      <td>1942.664490</td>\n    </tr>\n    <tr>\n      <th>14</th>\n      <td>2022-04-22 11:00:00</td>\n      <td>True</td>\n      <td>18476</td>\n      <td>1936.615</td>\n      <td>1937.604</td>\n      <td>1932.908</td>\n      <td>1935.491</td>\n      <td>1946.165125</td>\n      <td>1939.795094</td>\n    </tr>\n    <tr>\n      <th>15</th>\n      <td>2022-04-22 12:00:00</td>\n      <td>True</td>\n      <td>52385</td>\n      <td>1935.505</td>\n      <td>1939.669</td>\n      <td>1929.551</td>\n      <td>1937.065</td>\n      <td>1944.255750</td>\n      <td>1938.703056</td>\n    </tr>\n    <tr>\n      <th>16</th>\n      <td>2022-04-22 13:00:00</td>\n      <td>True</td>\n      <td>75403</td>\n      <td>1937.080</td>\n      <td>1946.495</td>\n      <td>1931.310</td>\n      <td>1943.325</td>\n      <td>1943.020125</td>\n      <td>1940.551834</td>\n    </tr>\n    <tr>\n      <th>17</th>\n      <td>2022-04-22 14:00:00</td>\n      <td>True</td>\n      <td>57133</td>\n      <td>1943.305</td>\n      <td>1945.437</td>\n      <td>1933.569</td>\n      <td>1936.040</td>\n      <td>1940.909500</td>\n      <td>1938.747100</td>\n    </tr>\n    <tr>\n      <th>18</th>\n      <td>2022-04-22 15:00:00</td>\n      <td>True</td>\n      <td>50341</td>\n      <td>1936.025</td>\n      <td>1939.533</td>\n      <td>1926.635</td>\n      <td>1939.165</td>\n      <td>1939.428875</td>\n      <td>1938.914260</td>\n    </tr>\n    <tr>\n      <th>19</th>\n      <td>2022-04-22 16:00:00</td>\n      <td>True</td>\n      <td>20279</td>\n      <td>1939.175</td>\n      <td>1940.926</td>\n      <td>1934.953</td>\n      <td>1936.535</td>\n      <td>1938.509500</td>\n      <td>1937.962556</td>\n    </tr>\n    <tr>\n      <th>20</th>\n      <td>2022-04-22 17:00:00</td>\n      <td>True</td>\n      <td>15360</td>\n      <td>1936.580</td>\n      <td>1936.865</td>\n      <td>1932.223</td>\n      <td>1933.325</td>\n      <td>1937.193875</td>\n      <td>1936.107534</td>\n    </tr>\n    <tr>\n      <th>21</th>\n      <td>2022-04-22 18:00:00</td>\n      <td>True</td>\n      <td>16895</td>\n      <td>1933.325</td>\n      <td>1935.080</td>\n      <td>1931.863</td>\n      <td>1933.051</td>\n      <td>1936.749625</td>\n      <td>1934.884920</td>\n    </tr>\n    <tr>\n      <th>22</th>\n      <td>2022-04-22 19:00:00</td>\n      <td>True</td>\n      <td>22545</td>\n      <td>1933.065</td>\n      <td>1936.169</td>\n      <td>1931.799</td>\n      <td>1932.751</td>\n      <td>1936.407125</td>\n      <td>1934.031352</td>\n    </tr>\n    <tr>\n      <th>23</th>\n      <td>2022-04-22 20:00:00</td>\n      <td>True</td>\n      <td>9651</td>\n      <td>1932.735</td>\n      <td>1934.777</td>\n      <td>1930.958</td>\n      <td>1932.350</td>\n      <td>1935.817750</td>\n      <td>1933.358811</td>\n    </tr>\n    <tr>\n      <th>24</th>\n      <td>2022-04-24 22:00:00</td>\n      <td>True</td>\n      <td>9778</td>\n      <td>1933.390</td>\n      <td>1934.549</td>\n      <td>1929.611</td>\n      <td>1930.375</td>\n      <td>1934.199000</td>\n      <td>1932.165287</td>\n    </tr>\n    <tr>\n      <th>25</th>\n      <td>2022-04-24 23:00:00</td>\n      <td>True</td>\n      <td>6533</td>\n      <td>1930.445</td>\n      <td>1933.049</td>\n      <td>1929.840</td>\n      <td>1932.740</td>\n      <td>1933.786500</td>\n      <td>1932.395172</td>\n    </tr>\n    <tr>\n      <th>26</th>\n      <td>2022-04-25 00:00:00</td>\n      <td>True</td>\n      <td>16635</td>\n      <td>1932.740</td>\n      <td>1932.840</td>\n      <td>1926.385</td>\n      <td>1927.950</td>\n      <td>1932.384625</td>\n      <td>1930.617103</td>\n    </tr>\n    <tr>\n      <th>27</th>\n      <td>2022-04-25 01:00:00</td>\n      <td>True</td>\n      <td>26583</td>\n      <td>1927.930</td>\n      <td>1928.071</td>\n      <td>1924.980</td>\n      <td>1925.555</td>\n      <td>1931.012125</td>\n      <td>1928.592262</td>\n    </tr>\n    <tr>\n      <th>28</th>\n      <td>2022-04-25 02:00:00</td>\n      <td>True</td>\n      <td>27132</td>\n      <td>1925.531</td>\n      <td>1926.556</td>\n      <td>1922.065</td>\n      <td>1924.235</td>\n      <td>1929.875875</td>\n      <td>1926.849357</td>\n    </tr>\n    <tr>\n      <th>29</th>\n      <td>2022-04-25 03:00:00</td>\n      <td>True</td>\n      <td>18282</td>\n      <td>1924.215</td>\n      <td>1924.679</td>\n      <td>1921.841</td>\n      <td>1924.190</td>\n      <td>1928.768250</td>\n      <td>1925.785614</td>\n    </tr>\n    <tr>\n      <th>30</th>\n      <td>2022-04-25 04:00:00</td>\n      <td>True</td>\n      <td>22341</td>\n      <td>1924.170</td>\n      <td>1924.529</td>\n      <td>1915.920</td>\n      <td>1916.510</td>\n      <td>1926.738125</td>\n      <td>1922.075369</td>\n    </tr>\n    <tr>\n      <th>31</th>\n      <td>2022-04-25 05:00:00</td>\n      <td>True</td>\n      <td>25740</td>\n      <td>1916.500</td>\n      <td>1919.415</td>\n      <td>1913.298</td>\n      <td>1915.405</td>\n      <td>1924.620000</td>\n      <td>1919.407221</td>\n    </tr>\n    <tr>\n      <th>32</th>\n      <td>2022-04-25 06:00:00</td>\n      <td>True</td>\n      <td>30377</td>\n      <td>1915.425</td>\n      <td>1918.866</td>\n      <td>1912.371</td>\n      <td>1917.900</td>\n      <td>1923.060625</td>\n      <td>1918.804333</td>\n    </tr>\n    <tr>\n      <th>33</th>\n      <td>2022-04-25 07:00:00</td>\n      <td>True</td>\n      <td>23924</td>\n      <td>1917.910</td>\n      <td>1921.120</td>\n      <td>1914.795</td>\n      <td>1915.605</td>\n      <td>1920.918750</td>\n      <td>1917.524600</td>\n    </tr>\n    <tr>\n      <th>34</th>\n      <td>2022-04-25 08:00:00</td>\n      <td>True</td>\n      <td>24028</td>\n      <td>1915.599</td>\n      <td>1921.247</td>\n      <td>1914.360</td>\n      <td>1916.575</td>\n      <td>1919.496875</td>\n      <td>1917.144760</td>\n    </tr>\n    <tr>\n      <th>35</th>\n      <td>2022-04-25 09:00:00</td>\n      <td>True</td>\n      <td>15613</td>\n      <td>1916.620</td>\n      <td>1919.265</td>\n      <td>1915.693</td>\n      <td>1917.310</td>\n      <td>1918.466250</td>\n      <td>1917.210856</td>\n    </tr>\n    <tr>\n      <th>36</th>\n      <td>2022-04-25 10:00:00</td>\n      <td>True</td>\n      <td>21081</td>\n      <td>1917.360</td>\n      <td>1918.240</td>\n      <td>1907.737</td>\n      <td>1908.915</td>\n      <td>1916.551250</td>\n      <td>1913.892514</td>\n    </tr>\n    <tr>\n      <th>37</th>\n      <td>2022-04-25 11:00:00</td>\n      <td>True</td>\n      <td>38641</td>\n      <td>1908.925</td>\n      <td>1911.075</td>\n      <td>1905.225</td>\n      <td>1907.670</td>\n      <td>1914.486250</td>\n      <td>1911.403508</td>\n    </tr>\n    <tr>\n      <th>38</th>\n      <td>2022-04-25 12:00:00</td>\n      <td>True</td>\n      <td>63020</td>\n      <td>1907.685</td>\n      <td>1909.745</td>\n      <td>1891.550</td>\n      <td>1894.790</td>\n      <td>1911.771250</td>\n      <td>1904.758105</td>\n    </tr>\n    <tr>\n      <th>39</th>\n      <td>2022-04-25 13:00:00</td>\n      <td>True</td>\n      <td>79297</td>\n      <td>1894.801</td>\n      <td>1904.267</td>\n      <td>1893.628</td>\n      <td>1896.835</td>\n      <td>1909.450000</td>\n      <td>1901.588863</td>\n    </tr>\n    <tr>\n      <th>40</th>\n      <td>2022-04-25 14:00:00</td>\n      <td>True</td>\n      <td>82198</td>\n      <td>1896.805</td>\n      <td>1899.449</td>\n      <td>1891.941</td>\n      <td>1895.185</td>\n      <td>1906.610625</td>\n      <td>1899.027318</td>\n    </tr>\n    <tr>\n      <th>41</th>\n      <td>2022-04-25 15:00:00</td>\n      <td>True</td>\n      <td>42415</td>\n      <td>1895.200</td>\n      <td>1900.535</td>\n      <td>1892.767</td>\n      <td>1895.890</td>\n      <td>1904.146250</td>\n      <td>1897.772391</td>\n    </tr>\n    <tr>\n      <th>42</th>\n      <td>2022-04-25 16:00:00</td>\n      <td>True</td>\n      <td>24717</td>\n      <td>1895.905</td>\n      <td>1897.973</td>\n      <td>1894.550</td>\n      <td>1897.755</td>\n      <td>1901.793750</td>\n      <td>1897.765434</td>\n    </tr>\n    <tr>\n      <th>43</th>\n      <td>2022-04-25 17:00:00</td>\n      <td>True</td>\n      <td>24249</td>\n      <td>1897.765</td>\n      <td>1898.731</td>\n      <td>1894.693</td>\n      <td>1897.275</td>\n      <td>1899.289375</td>\n      <td>1897.569261</td>\n    </tr>\n    <tr>\n      <th>44</th>\n      <td>2022-04-25 18:00:00</td>\n      <td>True</td>\n      <td>23998</td>\n      <td>1897.295</td>\n      <td>1902.605</td>\n      <td>1896.519</td>\n      <td>1898.705</td>\n      <td>1898.013125</td>\n      <td>1898.023556</td>\n    </tr>\n    <tr>\n      <th>45</th>\n      <td>2022-04-25 19:00:00</td>\n      <td>True</td>\n      <td>19261</td>\n      <td>1898.745</td>\n      <td>1901.874</td>\n      <td>1897.640</td>\n      <td>1897.975</td>\n      <td>1896.801250</td>\n      <td>1898.004134</td>\n    </tr>\n    <tr>\n      <th>46</th>\n      <td>2022-04-25 20:00:00</td>\n      <td>True</td>\n      <td>8699</td>\n      <td>1897.975</td>\n      <td>1899.216</td>\n      <td>1897.231</td>\n      <td>1898.045</td>\n      <td>1897.208125</td>\n      <td>1898.020480</td>\n    </tr>\n    <tr>\n      <th>47</th>\n      <td>2022-04-25 22:00:00</td>\n      <td>True</td>\n      <td>7170</td>\n      <td>1898.875</td>\n      <td>1900.715</td>\n      <td>1898.603</td>\n      <td>1899.551</td>\n      <td>1897.547625</td>\n      <td>1898.632688</td>\n    </tr>\n    <tr>\n      <th>48</th>\n      <td>2022-04-25 23:00:00</td>\n      <td>True</td>\n      <td>3420</td>\n      <td>1899.550</td>\n      <td>1900.445</td>\n      <td>1898.605</td>\n      <td>1899.440</td>\n      <td>1898.079500</td>\n      <td>1898.955613</td>\n    </tr>\n    <tr>\n      <th>49</th>\n      <td>2022-04-26 00:00:00</td>\n      <td>True</td>\n      <td>14639</td>\n      <td>1899.500</td>\n      <td>1903.847</td>\n      <td>1899.243</td>\n      <td>1900.965</td>\n      <td>1898.713875</td>\n      <td>1899.759368</td>\n    </tr>\n  </tbody>\n</table>\n</div>"
                    },
                    "metadata": {},
                    "execution_count": 113,
                    "output_type": "execute_result"
                }
            ],
            "execution_count": 113
        }
    ]
}