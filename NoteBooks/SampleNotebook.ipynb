{
    "metadata": {
        "kernelspec": {
            "name": "python3",
            "display_name": "Python 3 (ipykernel)",
            "language": "python"
        },
        "language_info": {
            "name": "python",
            "version": "3.9.12",
            "mimetype": "text/x-python",
            "codemirror_mode": {
                "name": "ipython",
                "version": 3
            },
            "pygments_lexer": "ipython3",
            "nbconvert_exporter": "python",
            "file_extension": ".py"
        }
    },
    "nbformat_minor": 2,
    "nbformat": 4,
    "cells": [
        {
            "cell_type": "markdown",
            "source": [
                "# Sample Notebook"
            ],
            "metadata": {
                "azdata_cell_guid": "45b54826-bf87-45d7-a162-e1f678cc225d"
            },
            "attachments": {}
        },
        {
            "cell_type": "markdown",
            "source": [
                "This is a sample notebook to try stuff."
            ],
            "metadata": {
                "azdata_cell_guid": "e8de44f5-f0c9-4399-b162-d913f46c6a89"
            },
            "attachments": {}
        },
        {
            "cell_type": "markdown",
            "source": [
                ""
            ],
            "metadata": {
                "azdata_cell_guid": "a70f7dff-1bbb-44d3-90a3-74d09090a4e4"
            }
        },
        {
            "cell_type": "code",
            "source": [
                "%matplotlib inline\r\n",
                "import numpy as np\r\n",
                "import matplotlib.pyplot as plt\r\n",
                "x = np.random.rand(100)\r\n",
                "y = np.random.rand(100)\r\n",
                "plt.scatter(x, y)\r\n",
                "plt.show()\r\n",
                ""
            ],
            "metadata": {
                "azdata_cell_guid": "41c00c81-3b30-48f6-aee6-068676c09ca5",
                "language": "python"
            },
            "outputs": [
                {
                    "data": {
                        "text/plain": "<Figure size 432x288 with 1 Axes>",
                        "image/png": "[encoded data removed]"
                    },
                    "metadata": {
                        "needs_background": "light"
                    },
                    "output_type": "display_data"
                }
            ],
            "execution_count": 2
        }
    ]
}